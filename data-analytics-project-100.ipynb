{
 "cells": [
  {
   "cell_type": "markdown",
   "id": "27950edc-7ad2-4375-8cd8-912859eb0d69",
   "metadata": {},
   "source": [
    "# Проект Дашборд конверсий"
   ]
  },
  {
   "cell_type": "code",
   "execution_count": 105,
   "id": "44d7bbf7-9db3-4ea8-ab8a-ec75d33eb2dc",
   "metadata": {},
   "outputs": [],
   "source": [
    "import pandas as pd\n",
    "import requests\n",
    "import datetime as dt\n",
    "pd.options.mode.chained_assignment = None  # default='warn'"
   ]
  },
  {
   "cell_type": "markdown",
   "id": "2e134f89-35ff-4b02-b683-0e07aeefe370",
   "metadata": {},
   "source": [
    "## Получаем данные о регистрациях и посещениях по API"
   ]
  },
  {
   "cell_type": "code",
   "execution_count": 106,
   "id": "1c412d93-5a4a-451c-9f03-30ff8f06ad05",
   "metadata": {},
   "outputs": [],
   "source": [
    "req_visits = requests.get('https://data-charts-api.hexlet.app/visits?begin=2023-03-01&end=2023-09-01')\n",
    "df_visits = pd.DataFrame(req_visits.json())\n",
    "\n",
    "req_registrations = requests.get('https://data-charts-api.hexlet.app/registrations?begin=2023-03-01&end=2023-09-01')\n",
    "df_registrations = pd.DataFrame(req_registrations.json())"
   ]
  },
  {
   "cell_type": "markdown",
   "id": "99325966-6ad2-4f30-a723-4a3fc03f2307",
   "metadata": {},
   "source": [
    "## Агрегируем данные о регистрациях и посещениях и сохраняем полученный датафрейм в conversion.json"
   ]
  },
  {
   "cell_type": "code",
   "execution_count": 107,
   "id": "79a2c8de-f64c-4faa-8907-627d427e42fc",
   "metadata": {},
   "outputs": [],
   "source": [
    "#Группируем данные о посещениях\n",
    "\n",
    "##Группируем по visit_id, берем только последнее посещение\n",
    "df_visits['datetime'] = pd.to_datetime(df_visits['datetime'])\n",
    "df_visits_last = df_visits.loc[df_visits.groupby('visit_id')['datetime'].idxmax()]\n",
    "\n",
    "##Отфильтровываем посещения ботов\n",
    "df_visits_filtered = df_visits_last[~df_visits_last['user_agent'].str.contains('bot', case=False)]\n",
    "\n",
    "##Группируем посещения по дате и платформе\n",
    "df_visits_filtered['datetime'] = df_visits_filtered['datetime'].dt.strftime('%Y-%m-%d')\n",
    "df_visits_grouped = df_visits_filtered.groupby(['datetime', 'platform']).size().reset_index(name='visits')\n",
    "\n",
    "##Переименовываем столбцы согласно заданию\n",
    "df_visits_grouped.columns = ['date_group', 'platform', 'visits']\n",
    "\n",
    "#Группируем данные о регистрациях\n",
    "##Группируем регистрации по дате и платформе\n",
    "df_registrations['date_group'] = pd.to_datetime(df_registrations['datetime']).dt.strftime('%Y-%m-%d')\n",
    "df_registrations_grouped = df_registrations.groupby(['date_group', 'platform']).size().reset_index(name='registrations')\n",
    "\n",
    "#Объединяем датасэты\n",
    "df_conversions = pd.merge(df_visits_grouped, df_registrations_grouped, on=['date_group', 'platform'], how='outer')\n",
    "\n",
    "#Считаем конверсию из посещений в регистрацию\n",
    "df_conversions['conversion'] = (df_conversions['registrations'] * 100 / df_conversions['visits']).round(2)\n",
    "\n",
    "#Сортируем строки согласно заданию\n",
    "df_conversions = df_conversions.sort_values(by='date_group')\n",
    "\n",
    "#Сохраняем полученный датафрейм в формате JSON\n",
    "df_conversions.to_json('conversion.json')"
   ]
  },
  {
   "cell_type": "markdown",
   "id": "e04f50ba-d83a-43a6-ae36-feb6dc7120ae",
   "metadata": {},
   "source": [
    "## Получаем данные по рекламным кампаниям"
   ]
  },
  {
   "cell_type": "code",
   "execution_count": 108,
   "id": "5bbd43e0-b333-48ae-8c66-92d656d44eab",
   "metadata": {},
   "outputs": [],
   "source": [
    "df_ads = pd.read_csv('https://drive.google.com/uc?id=12vCtGhJlcK_CBcs8ES3BfEPbk6OJ45Qj')"
   ]
  },
  {
   "cell_type": "markdown",
   "id": "9c70ed3f-89c7-4080-af5d-d645b8b6e98c",
   "metadata": {},
   "source": [
    "## Агрегируем данные по рекламным кампаниям и сохраняем полученный датафрейм в ads.json"
   ]
  },
  {
   "cell_type": "code",
   "execution_count": 115,
   "id": "5643c36f-1449-4c9a-b322-93fdfae45aba",
   "metadata": {},
   "outputs": [],
   "source": [
    "#Группируем рекламу дате и компании, считаем стоимость\n",
    "df_ads['date_group'] = pd.to_datetime(df_ads['date']).dt.strftime('%Y-%m-%d')\n",
    "df_ads_grouped = df_ads.groupby(['date_group']).agg({'cost': 'sum', 'utm_campaign': 'first'}).reset_index()\n",
    "\n",
    "#Объединяем полученный датафрейм с df_conversions\n",
    "df_ads_result = pd.merge(df_conversions, df_ads_grouped, on='date_group', how='left')\n",
    "\n",
    "#Заполняем пустые значения в датафрейме\n",
    "df_ads_result['cost'] = df_ads_result['cost'].fillna(0)\n",
    "df_ads_result['utm_campaign'] = df_ads_result['utm_campaign'].fillna('none')\n",
    "\n",
    "#Сортируем строки согласно заданию\n",
    "df_ads_result = df_ads_result.sort_values(by='date_group')\n",
    "\n",
    "#Сохраняем полученный датафрейм в формате JSON\n",
    "df_ads_result.to_json('ads.json')"
   ]
  }
 ],
 "metadata": {
  "kernelspec": {
   "display_name": "Python 3 (ipykernel)",
   "language": "python",
   "name": "python3"
  },
  "language_info": {
   "codemirror_mode": {
    "name": "ipython",
    "version": 3
   },
   "file_extension": ".py",
   "mimetype": "text/x-python",
   "name": "python",
   "nbconvert_exporter": "python",
   "pygments_lexer": "ipython3",
   "version": "3.11.9"
  }
 },
 "nbformat": 4,
 "nbformat_minor": 5
}
