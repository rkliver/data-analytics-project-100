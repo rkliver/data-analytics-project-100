{
 "cells": [
  {
   "cell_type": "markdown",
   "id": "27950edc-7ad2-4375-8cd8-912859eb0d69",
   "metadata": {},
   "source": [
    "# Проект Дашборд конверсий"
   ]
  },
  {
   "cell_type": "code",
   "execution_count": 1,
   "id": "44d7bbf7-9db3-4ea8-ab8a-ec75d33eb2dc",
   "metadata": {},
   "outputs": [],
   "source": [
    "import pandas as pd\n",
    "import requests"
   ]
  },
  {
   "cell_type": "markdown",
   "id": "2e134f89-35ff-4b02-b683-0e07aeefe370",
   "metadata": {},
   "source": [
    "## Получаем данные о регистрациях и посещениях по API"
   ]
  },
  {
   "cell_type": "code",
   "execution_count": 6,
   "id": "1c412d93-5a4a-451c-9f03-30ff8f06ad05",
   "metadata": {},
   "outputs": [
    {
     "name": "stdout",
     "output_type": "stream",
     "text": [
      "                        datetime                       email platform  \\\n",
      "0  Wed, 01 Mar 2023 07:40:13 GMT           ebyrd@example.org      web   \n",
      "1  Wed, 01 Mar 2023 13:14:00 GMT    knightgerald@example.org      web   \n",
      "2  Wed, 01 Mar 2023 03:05:50 GMT  cherylthompson@example.com      web   \n",
      "3  Wed, 01 Mar 2023 00:04:47 GMT       halldavid@example.org      web   \n",
      "4  Wed, 01 Mar 2023 18:31:52 GMT        denise86@example.net      web   \n",
      "\n",
      "  registration_type                               user_id  \n",
      "0            google  2e0f6bb8-b029-4f45-a786-2b53990d37f1  \n",
      "1             email  f007f97c-9d8b-48b5-af08-119bb8f6d9b6  \n",
      "2             apple  24ff46ae-32b3-4a74-8f27-7cf0b8f32f15  \n",
      "3             email  3e9914e1-5d73-4c23-b25d-b59a3aeb2b60  \n",
      "4            google  27f875fc-f8ce-4aeb-8722-0ecb283d0760  \n"
     ]
    }
   ],
   "source": [
    "req_visits = requests.get('https://data-charts-api.hexlet.app/visits?begin=2023-03-01&end=2023-09-01')\n",
    "df_visits = pd.DataFrame(req_visits.json())\n",
    "\n",
    "req_registrations = requests.get('https://data-charts-api.hexlet.app/registrations?begin=2023-03-01&end=2023-09-01')\n",
    "df_registrations = pd.DataFrame(req_registrations.json())"
   ]
  },
  {
   "cell_type": "code",
   "execution_count": 9,
   "id": "06d8a3cb-0729-49c7-80bc-3e156f843cb9",
   "metadata": {},
   "outputs": [
    {
     "data": {
      "text/plain": [
       "<bound method NDFrame.describe of                              datetime platform  \\\n",
       "0       Wed, 01 Mar 2023 10:36:22 GMT      web   \n",
       "1       Wed, 01 Mar 2023 06:25:00 GMT      web   \n",
       "2       Wed, 01 Mar 2023 10:26:13 GMT      web   \n",
       "3       Wed, 01 Mar 2023 12:33:06 GMT      web   \n",
       "4       Wed, 01 Mar 2023 01:38:35 GMT      web   \n",
       "...                               ...      ...   \n",
       "263454  Tue, 29 Aug 2023 10:43:29 GMT      web   \n",
       "263455  Tue, 29 Aug 2023 19:29:16 GMT      web   \n",
       "263456  Tue, 29 Aug 2023 12:51:11 GMT      web   \n",
       "263457  Tue, 29 Aug 2023 21:45:08 GMT      web   \n",
       "263458  Wed, 30 Aug 2023 19:19:04 GMT      web   \n",
       "\n",
       "                                               user_agent  \\\n",
       "0       Mozilla/5.0 (Windows NT 10.0; Win64; x64) Appl...   \n",
       "1       Mozilla/5.0 (Windows NT 10.0; WOW64; Trident/7...   \n",
       "2       Mozilla/5.0 (Macintosh; Intel Mac OS X 10_11_2...   \n",
       "3       Mozilla/5.0 (Macintosh; Intel Mac OS X 10_15_7...   \n",
       "4       Mozilla/5.0 (Windows NT 10.0; Win64; x64) Appl...   \n",
       "...                                                   ...   \n",
       "263454  Mozilla/5.0 (Macintosh; Intel Mac OS X 10_15_7...   \n",
       "263455  Mozilla/5.0 (X11; Ubuntu; Linux x86_64; rv:109...   \n",
       "263456  Mozilla/5.0 (Windows NT 10.0; Win64; x64) Appl...   \n",
       "263457  Mozilla/5.0 (Windows NT 10.0; Win64; x64) Appl...   \n",
       "263458  Mozilla/5.0 (X11; Ubuntu; Linux x86_64; rv:109...   \n",
       "\n",
       "                                    visit_id  \n",
       "0       1de9ea66-70d3-4a1f-8735-df5ef7697fb9  \n",
       "1       f149f542-e935-4870-9734-6b4501eaf614  \n",
       "2       08f0ebd4-950c-4dd9-8e97-b5bdf073eed1  \n",
       "3       19322fed-157c-49c6-b16e-2d5cabeb9592  \n",
       "4       04762a22-3c9f-40c9-9ac9-6628c4381836  \n",
       "...                                      ...  \n",
       "263454  6d2e2f5b-970b-4dfe-8f57-25711a5b2a5d  \n",
       "263455  1d91535e-d984-4f76-bbaa-c14c0fd4f2e2  \n",
       "263456  f2496721-7126-430d-976e-777a6cdccb4f  \n",
       "263457  f2496721-7126-430d-976e-777a6cdccb4f  \n",
       "263458  73047125-de44-4d65-8229-7218acff4ddc  \n",
       "\n",
       "[263459 rows x 4 columns]>"
      ]
     },
     "execution_count": 9,
     "metadata": {},
     "output_type": "execute_result"
    }
   ],
   "source": [
    "#Предварительный анализ\n",
    "df_visits.describe"
   ]
  },
  {
   "cell_type": "code",
   "execution_count": 8,
   "id": "3eb5b13b",
   "metadata": {},
   "outputs": [
    {
     "data": {
      "text/plain": [
       "<bound method NDFrame.describe of                             datetime                       email platform  \\\n",
       "0      Wed, 01 Mar 2023 07:40:13 GMT           ebyrd@example.org      web   \n",
       "1      Wed, 01 Mar 2023 13:14:00 GMT    knightgerald@example.org      web   \n",
       "2      Wed, 01 Mar 2023 03:05:50 GMT  cherylthompson@example.com      web   \n",
       "3      Wed, 01 Mar 2023 00:04:47 GMT       halldavid@example.org      web   \n",
       "4      Wed, 01 Mar 2023 18:31:52 GMT        denise86@example.net      web   \n",
       "...                              ...                         ...      ...   \n",
       "21831  Thu, 31 Aug 2023 07:32:08 GMT         ikelley@example.net      ios   \n",
       "21832  Thu, 31 Aug 2023 23:25:50 GMT     brittanycox@example.net      ios   \n",
       "21833  Thu, 31 Aug 2023 19:29:18 GMT           aryan@example.net      ios   \n",
       "21834  Thu, 31 Aug 2023 19:38:54 GMT       emartinez@example.net      ios   \n",
       "21835  Thu, 31 Aug 2023 08:36:05 GMT      terriperry@example.net      ios   \n",
       "\n",
       "      registration_type                               user_id  \n",
       "0                google  2e0f6bb8-b029-4f45-a786-2b53990d37f1  \n",
       "1                 email  f007f97c-9d8b-48b5-af08-119bb8f6d9b6  \n",
       "2                 apple  24ff46ae-32b3-4a74-8f27-7cf0b8f32f15  \n",
       "3                 email  3e9914e1-5d73-4c23-b25d-b59a3aeb2b60  \n",
       "4                google  27f875fc-f8ce-4aeb-8722-0ecb283d0760  \n",
       "...                 ...                                   ...  \n",
       "21831             apple  a94b4a28-f25c-433c-b4ef-85af7d5b0c11  \n",
       "21832             apple  fc709c6b-528b-40d8-8980-c2c278e5a628  \n",
       "21833             apple  11e32805-7571-4108-8e50-e211d051bf7e  \n",
       "21834             email  bce7b818-768b-434a-b6af-573cd60bff7f  \n",
       "21835             email  fe03e08a-8e86-4b5f-9a50-c18a02b0d234  \n",
       "\n",
       "[21836 rows x 5 columns]>"
      ]
     },
     "execution_count": 8,
     "metadata": {},
     "output_type": "execute_result"
    }
   ],
   "source": [
    "#Предварительный анализ\n",
    "df_registrations.describe"
   ]
  }
 ],
 "metadata": {
  "kernelspec": {
   "display_name": "Python 3 (ipykernel)",
   "language": "python",
   "name": "python3"
  },
  "language_info": {
   "codemirror_mode": {
    "name": "ipython",
    "version": 3
   },
   "file_extension": ".py",
   "mimetype": "text/x-python",
   "name": "python",
   "nbconvert_exporter": "python",
   "pygments_lexer": "ipython3",
   "version": "3.11.9"
  }
 },
 "nbformat": 4,
 "nbformat_minor": 5
}
